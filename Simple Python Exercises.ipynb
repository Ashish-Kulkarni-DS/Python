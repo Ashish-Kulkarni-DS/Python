{
 "cells": [
  {
   "cell_type": "markdown",
   "metadata": {},
   "source": [
    "### Q1). Suppose there are two numbers and you are supposed to calculate their sum and product. The condition is, if their product is greater than 1000 then display their summation and if their product is less than or equal to 1000 then display their production."
   ]
  },
  {
   "cell_type": "code",
   "execution_count": 1,
   "metadata": {},
   "outputs": [
    {
     "name": "stdout",
     "output_type": "stream",
     "text": [
      "Please enter number 1: 13\n",
      "Please enter number 2: 55\n",
      "Production:  715\n"
     ]
    }
   ],
   "source": [
    "num1 = int(input(\"Please enter number 1: \"))\n",
    "num2 = int(input(\"Please enter number 2: \"))\n",
    "\n",
    "if num1*num2 > 1000:\n",
    "    print(\"Summation: \", sum(num1, num2))\n",
    "else:\n",
    "    print(\"Production: \", (num1*num2))"
   ]
  },
  {
   "cell_type": "markdown",
   "metadata": {},
   "source": [
    "### Q2) Given is a list of numbers, return True if first and last number of the list is same."
   ]
  },
  {
   "cell_type": "code",
   "execution_count": 9,
   "metadata": {},
   "outputs": [
    {
     "name": "stdout",
     "output_type": "stream",
     "text": [
      "True\n"
     ]
    }
   ],
   "source": [
    "lst1 = [10,20,30,40,50,60,7,0,80,90,100,10]\n",
    "\n",
    "if lst1[0] == lst1[-1]:\n",
    "    print (True)\n",
    "else:\n",
    "    print (False)"
   ]
  },
  {
   "cell_type": "code",
   "execution_count": 11,
   "metadata": {},
   "outputs": [
    {
     "name": "stdout",
     "output_type": "stream",
     "text": [
      "True\n"
     ]
    }
   ],
   "source": [
    "lst1 = [10,20,30,40,50,60,7,0,80,90,100,10]\n",
    "\n",
    "if lst1[0] == lst1[len(lst1)-1]:             # number/length of element - 1; because the counting starts from 0\n",
    "    print (True)\n",
    "else:\n",
    "    print (False)"
   ]
  },
  {
   "cell_type": "markdown",
   "metadata": {},
   "source": [
    "### Q3) Given a list of numbers, iterate it and print only those numbers which are divisible by 5."
   ]
  },
  {
   "cell_type": "code",
   "execution_count": 18,
   "metadata": {},
   "outputs": [
    {
     "name": "stdout",
     "output_type": "stream",
     "text": [
      "5\n",
      "10\n",
      "15\n",
      "20\n",
      "25\n",
      "30\n"
     ]
    }
   ],
   "source": [
    "lst2 = [5,8,10,12,15,17,20,22,25,27,30]\n",
    "\n",
    "for i in lst2:\n",
    "    if i%5 == 0:\n",
    "        print(i)\n",
    "    else:\n",
    "        pass"
   ]
  },
  {
   "cell_type": "markdown",
   "metadata": {},
   "source": [
    "### Q4) Return the count of sub-string \"John\" appears in the given string \"John is good Developer. John is a writer.\" "
   ]
  },
  {
   "cell_type": "code",
   "execution_count": 20,
   "metadata": {},
   "outputs": [
    {
     "name": "stdout",
     "output_type": "stream",
     "text": [
      "2\n"
     ]
    }
   ],
   "source": [
    "text = \"John is good Developer. John is a writer.\"\n",
    "\n",
    "counter = text.count('John')\n",
    "print(counter)"
   ]
  },
  {
   "cell_type": "code",
   "execution_count": 25,
   "metadata": {},
   "outputs": [
    {
     "name": "stdout",
     "output_type": "stream",
     "text": [
      "2\n"
     ]
    }
   ],
   "source": [
    "text = \"John is good Developer. John is a writer.\"\n",
    "\n",
    "words = text.split(\" \")\n",
    "counter = 0\n",
    "\n",
    "for i in words:\n",
    "    if i == 'John':\n",
    "        counter += 1                   # increment the counter by 1 everytime the iterator finds 'John'\n",
    "print(counter)"
   ]
  },
  {
   "cell_type": "markdown",
   "metadata": {},
   "source": [
    "### Q5) Reverse the following list using for loop: \n",
    "lst1 = [10,20,30,40,50]"
   ]
  },
  {
   "cell_type": "code",
   "execution_count": 3,
   "metadata": {},
   "outputs": [
    {
     "name": "stdout",
     "output_type": "stream",
     "text": [
      "[50, 40, 30, 20, 10]\n"
     ]
    }
   ],
   "source": [
    "lst1 = [10,20,30,40,50]\n",
    "lst2 = []\n",
    "\n",
    "for i in range(-1,-len(lst1)-1, -1):\n",
    "    lst2.append(lst1[i])\n",
    "print(lst2)"
   ]
  },
  {
   "cell_type": "markdown",
   "metadata": {},
   "source": [
    "### Q6) Write a program which will find all such numbers that are divisible by 7 by are not multiple of 5, between 2000 and 3200 (both included)."
   ]
  },
  {
   "cell_type": "code",
   "execution_count": 4,
   "metadata": {},
   "outputs": [
    {
     "name": "stdout",
     "output_type": "stream",
     "text": [
      "2030\n",
      "2065\n",
      "2100\n",
      "2135\n",
      "2170\n",
      "2205\n",
      "2240\n",
      "2275\n",
      "2310\n",
      "2345\n",
      "2380\n",
      "2415\n",
      "2450\n",
      "2485\n",
      "2520\n",
      "2555\n",
      "2590\n",
      "2625\n",
      "2660\n",
      "2695\n",
      "2730\n",
      "2765\n",
      "2800\n",
      "2835\n",
      "2870\n",
      "2905\n",
      "2940\n",
      "2975\n",
      "3010\n",
      "3045\n",
      "3080\n",
      "3115\n",
      "3150\n",
      "3185\n"
     ]
    }
   ],
   "source": [
    "for i in range(2000, 3201):\n",
    "    if i%7==0 and i%5==0:\n",
    "        print(i)"
   ]
  },
  {
   "cell_type": "code",
   "execution_count": 7,
   "metadata": {},
   "outputs": [
    {
     "name": "stdout",
     "output_type": "stream",
     "text": [
      "[2030, 2065, 2100, 2135, 2170, 2205, 2240, 2275, 2310, 2345, 2380, 2415, 2450, 2485, 2520, 2555, 2590, 2625, 2660, 2695, 2730, 2765, 2800, 2835, 2870, 2905, 2940, 2975, 3010, 3045, 3080, 3115, 3150, 3185]\n"
     ]
    }
   ],
   "source": [
    "# if you want output as a list\n",
    "lst = []\n",
    "\n",
    "for i in range(2000, 3201):\n",
    "    if i%7==0 and i%5==0:\n",
    "        lst.append(i)\n",
    "print(lst)"
   ]
  },
  {
   "cell_type": "markdown",
   "metadata": {},
   "source": [
    "### Q7) Find the factorial of any number."
   ]
  },
  {
   "cell_type": "code",
   "execution_count": 9,
   "metadata": {},
   "outputs": [
    {
     "name": "stdout",
     "output_type": "stream",
     "text": [
      "Please enter a number: 6\n",
      "720\n"
     ]
    }
   ],
   "source": [
    "num = int(input(\"Please enter a number: \"))\n",
    "factorial = 1\n",
    "i = 1\n",
    "\n",
    "while i<=num:\n",
    "    factorial *= i\n",
    "    i += 1\n",
    "print(factorial)"
   ]
  },
  {
   "cell_type": "code",
   "execution_count": 11,
   "metadata": {},
   "outputs": [],
   "source": [
    "def fact(value):\n",
    "    if value == 1:\n",
    "        return 1\n",
    "    else:\n",
    "        return value * fact(value-1)"
   ]
  },
  {
   "cell_type": "code",
   "execution_count": 12,
   "metadata": {},
   "outputs": [
    {
     "data": {
      "text/plain": [
       "24"
      ]
     },
     "execution_count": 12,
     "metadata": {},
     "output_type": "execute_result"
    }
   ],
   "source": [
    "fact(4)"
   ]
  },
  {
   "cell_type": "code",
   "execution_count": 13,
   "metadata": {},
   "outputs": [
    {
     "name": "stdout",
     "output_type": "stream",
     "text": [
      "Enter a number: 4\n",
      "24\n"
     ]
    }
   ],
   "source": [
    "number = int(input(\"Enter a number: \"))\n",
    "\n",
    "def fact(value):\n",
    "\n",
    "       if value == 1:\n",
    "\n",
    "              return 1\n",
    "\n",
    "       else:\n",
    "\n",
    "              return value * fact(value-1)\n",
    "\n",
    "print(fact(number))"
   ]
  },
  {
   "cell_type": "markdown",
   "metadata": {},
   "source": [
    "### Q8) Star pattern:- Right Triangle"
   ]
  },
  {
   "cell_type": "code",
   "execution_count": 15,
   "metadata": {},
   "outputs": [
    {
     "name": "stdout",
     "output_type": "stream",
     "text": [
      "*\n",
      "**\n",
      "***\n",
      "****\n",
      "*****\n"
     ]
    }
   ],
   "source": [
    "for i in range(1, 6):\n",
    "    print('*' * i)"
   ]
  },
  {
   "cell_type": "code",
   "execution_count": 18,
   "metadata": {},
   "outputs": [
    {
     "name": "stdout",
     "output_type": "stream",
     "text": [
      "*\n",
      "**\n",
      "***\n",
      "****\n",
      "*****\n"
     ]
    }
   ],
   "source": [
    "i = 1\n",
    "\n",
    "while i<=5:\n",
    "    print('*' * i)\n",
    "    i += 1"
   ]
  },
  {
   "cell_type": "markdown",
   "metadata": {},
   "source": [
    "### Q9) Star pattern:- Mirrored Right Triangle"
   ]
  },
  {
   "cell_type": "code",
   "execution_count": 20,
   "metadata": {},
   "outputs": [
    {
     "name": "stdout",
     "output_type": "stream",
     "text": [
      "    *\n",
      "   **\n",
      "  ***\n",
      " ****\n",
      "*****\n"
     ]
    }
   ],
   "source": [
    "for i in range(1, 6):\n",
    "    print(' ' * (5-i) + '*' * i)"
   ]
  },
  {
   "cell_type": "code",
   "execution_count": 21,
   "metadata": {},
   "outputs": [
    {
     "name": "stdout",
     "output_type": "stream",
     "text": [
      "    *\n",
      "   **\n",
      "  ***\n",
      " ****\n",
      "*****\n"
     ]
    }
   ],
   "source": [
    "i = 1\n",
    "\n",
    "while i<=5:\n",
    "    print(' '*(5-i) + '*'*i)\n",
    "    i += 1"
   ]
  },
  {
   "cell_type": "markdown",
   "metadata": {},
   "source": [
    "### Q10) Half Pyramid of Numbers"
   ]
  },
  {
   "cell_type": "code",
   "execution_count": 25,
   "metadata": {},
   "outputs": [
    {
     "name": "stdout",
     "output_type": "stream",
     "text": [
      "1\n",
      "12\n",
      "123\n",
      "1234\n",
      "12345\n"
     ]
    }
   ],
   "source": [
    "for i in range(1,6):\n",
    "    for j in range(1, i+1):                 # i+1, because we want to include i in the inner loop\n",
    "        print(j, end='')\n",
    "    print()"
   ]
  },
  {
   "cell_type": "code",
   "execution_count": 26,
   "metadata": {},
   "outputs": [
    {
     "name": "stdout",
     "output_type": "stream",
     "text": [
      "1\n",
      "12\n",
      "123\n",
      "1234\n",
      "12345\n"
     ]
    }
   ],
   "source": [
    "i = 1\n",
    "\n",
    "while i<=5:\n",
    "    j = 1\n",
    "    while j<=i:\n",
    "        print(j, end='')\n",
    "        j += 1\n",
    "    i += 1\n",
    "    print()"
   ]
  },
  {
   "cell_type": "markdown",
   "metadata": {},
   "source": [
    "### Q11) Write a program to display all the Prime Numbers within a Range."
   ]
  },
  {
   "cell_type": "code",
   "execution_count": 4,
   "metadata": {},
   "outputs": [
    {
     "name": "stdout",
     "output_type": "stream",
     "text": [
      "Enter a number: 13\n",
      "The number is Prime\n"
     ]
    }
   ],
   "source": [
    "num = int(input(\"Enter a number: \"))\n",
    "\n",
    "for i in range(2,num):\n",
    "    if num%i==0:\n",
    "        print(\"The number is not Prime\")\n",
    "        break\n",
    "else:\n",
    "    print(\"The number is Prime\")"
   ]
  },
  {
   "cell_type": "code",
   "execution_count": 3,
   "metadata": {},
   "outputs": [
    {
     "name": "stdout",
     "output_type": "stream",
     "text": [
      "The number 1000 is not Prime\n",
      "The number 1001 is not Prime\n",
      "The number 1002 is not Prime\n",
      "The number 1003 is not Prime\n",
      "The number 1004 is not Prime\n",
      "The number 1005 is not Prime\n",
      "The number 1006 is not Prime\n",
      "The number 1007 is not Prime\n",
      "The number 1008 is not Prime\n",
      "The number 1009 is Prime\n",
      "The number 1010 is not Prime\n",
      "The number 1011 is not Prime\n",
      "The number 1012 is not Prime\n",
      "The number 1013 is Prime\n",
      "The number 1014 is not Prime\n",
      "The number 1015 is not Prime\n",
      "The number 1016 is not Prime\n",
      "The number 1017 is not Prime\n",
      "The number 1018 is not Prime\n",
      "The number 1019 is Prime\n",
      "The number 1020 is not Prime\n",
      "The number 1021 is Prime\n",
      "The number 1022 is not Prime\n",
      "The number 1023 is not Prime\n",
      "The number 1024 is not Prime\n",
      "The number 1025 is not Prime\n",
      "The number 1026 is not Prime\n",
      "The number 1027 is not Prime\n",
      "The number 1028 is not Prime\n",
      "The number 1029 is not Prime\n",
      "The number 1030 is not Prime\n",
      "The number 1031 is Prime\n",
      "The number 1032 is not Prime\n",
      "The number 1033 is Prime\n",
      "The number 1034 is not Prime\n",
      "The number 1035 is not Prime\n",
      "The number 1036 is not Prime\n",
      "The number 1037 is not Prime\n",
      "The number 1038 is not Prime\n",
      "The number 1039 is Prime\n",
      "The number 1040 is not Prime\n",
      "The number 1041 is not Prime\n",
      "The number 1042 is not Prime\n",
      "The number 1043 is not Prime\n",
      "The number 1044 is not Prime\n",
      "The number 1045 is not Prime\n",
      "The number 1046 is not Prime\n",
      "The number 1047 is not Prime\n",
      "The number 1048 is not Prime\n",
      "The number 1049 is Prime\n",
      "The number 1050 is not Prime\n",
      "The number 1051 is Prime\n",
      "The number 1052 is not Prime\n",
      "The number 1053 is not Prime\n",
      "The number 1054 is not Prime\n",
      "The number 1055 is not Prime\n",
      "The number 1056 is not Prime\n",
      "The number 1057 is not Prime\n",
      "The number 1058 is not Prime\n",
      "The number 1059 is not Prime\n",
      "The number 1060 is not Prime\n",
      "The number 1061 is Prime\n",
      "The number 1062 is not Prime\n",
      "The number 1063 is Prime\n",
      "The number 1064 is not Prime\n",
      "The number 1065 is not Prime\n",
      "The number 1066 is not Prime\n",
      "The number 1067 is not Prime\n",
      "The number 1068 is not Prime\n",
      "The number 1069 is Prime\n",
      "The number 1070 is not Prime\n",
      "The number 1071 is not Prime\n",
      "The number 1072 is not Prime\n",
      "The number 1073 is not Prime\n",
      "The number 1074 is not Prime\n",
      "The number 1075 is not Prime\n",
      "The number 1076 is not Prime\n",
      "The number 1077 is not Prime\n",
      "The number 1078 is not Prime\n",
      "The number 1079 is not Prime\n",
      "The number 1080 is not Prime\n",
      "The number 1081 is not Prime\n",
      "The number 1082 is not Prime\n",
      "The number 1083 is not Prime\n",
      "The number 1084 is not Prime\n",
      "The number 1085 is not Prime\n",
      "The number 1086 is not Prime\n",
      "The number 1087 is Prime\n",
      "The number 1088 is not Prime\n",
      "The number 1089 is not Prime\n",
      "The number 1090 is not Prime\n",
      "The number 1091 is Prime\n",
      "The number 1092 is not Prime\n",
      "The number 1093 is Prime\n",
      "The number 1094 is not Prime\n",
      "The number 1095 is not Prime\n",
      "The number 1096 is not Prime\n",
      "The number 1097 is Prime\n",
      "The number 1098 is not Prime\n",
      "The number 1099 is not Prime\n",
      "The number 1100 is not Prime\n",
      "The number 1101 is not Prime\n",
      "The number 1102 is not Prime\n",
      "The number 1103 is Prime\n",
      "The number 1104 is not Prime\n",
      "The number 1105 is not Prime\n",
      "The number 1106 is not Prime\n",
      "The number 1107 is not Prime\n",
      "The number 1108 is not Prime\n",
      "The number 1109 is Prime\n",
      "The number 1110 is not Prime\n",
      "The number 1111 is not Prime\n",
      "The number 1112 is not Prime\n",
      "The number 1113 is not Prime\n",
      "The number 1114 is not Prime\n",
      "The number 1115 is not Prime\n",
      "The number 1116 is not Prime\n",
      "The number 1117 is Prime\n",
      "The number 1118 is not Prime\n",
      "The number 1119 is not Prime\n",
      "The number 1120 is not Prime\n",
      "The number 1121 is not Prime\n",
      "The number 1122 is not Prime\n",
      "The number 1123 is Prime\n",
      "The number 1124 is not Prime\n",
      "The number 1125 is not Prime\n",
      "The number 1126 is not Prime\n",
      "The number 1127 is not Prime\n",
      "The number 1128 is not Prime\n",
      "The number 1129 is Prime\n",
      "The number 1130 is not Prime\n",
      "The number 1131 is not Prime\n",
      "The number 1132 is not Prime\n",
      "The number 1133 is not Prime\n",
      "The number 1134 is not Prime\n",
      "The number 1135 is not Prime\n",
      "The number 1136 is not Prime\n",
      "The number 1137 is not Prime\n",
      "The number 1138 is not Prime\n",
      "The number 1139 is not Prime\n",
      "The number 1140 is not Prime\n",
      "The number 1141 is not Prime\n",
      "The number 1142 is not Prime\n",
      "The number 1143 is not Prime\n",
      "The number 1144 is not Prime\n",
      "The number 1145 is not Prime\n",
      "The number 1146 is not Prime\n",
      "The number 1147 is not Prime\n",
      "The number 1148 is not Prime\n",
      "The number 1149 is not Prime\n",
      "The number 1150 is not Prime\n",
      "The number 1151 is Prime\n",
      "The number 1152 is not Prime\n",
      "The number 1153 is Prime\n",
      "The number 1154 is not Prime\n",
      "The number 1155 is not Prime\n",
      "The number 1156 is not Prime\n",
      "The number 1157 is not Prime\n",
      "The number 1158 is not Prime\n",
      "The number 1159 is not Prime\n",
      "The number 1160 is not Prime\n",
      "The number 1161 is not Prime\n",
      "The number 1162 is not Prime\n",
      "The number 1163 is Prime\n",
      "The number 1164 is not Prime\n",
      "The number 1165 is not Prime\n",
      "The number 1166 is not Prime\n",
      "The number 1167 is not Prime\n",
      "The number 1168 is not Prime\n",
      "The number 1169 is not Prime\n",
      "The number 1170 is not Prime\n",
      "The number 1171 is Prime\n",
      "The number 1172 is not Prime\n",
      "The number 1173 is not Prime\n",
      "The number 1174 is not Prime\n",
      "The number 1175 is not Prime\n",
      "The number 1176 is not Prime\n",
      "The number 1177 is not Prime\n",
      "The number 1178 is not Prime\n",
      "The number 1179 is not Prime\n",
      "The number 1180 is not Prime\n",
      "The number 1181 is Prime\n",
      "The number 1182 is not Prime\n",
      "The number 1183 is not Prime\n",
      "The number 1184 is not Prime\n",
      "The number 1185 is not Prime\n",
      "The number 1186 is not Prime\n",
      "The number 1187 is Prime\n",
      "The number 1188 is not Prime\n",
      "The number 1189 is not Prime\n",
      "The number 1190 is not Prime\n",
      "The number 1191 is not Prime\n",
      "The number 1192 is not Prime\n",
      "The number 1193 is Prime\n",
      "The number 1194 is not Prime\n",
      "The number 1195 is not Prime\n",
      "The number 1196 is not Prime\n",
      "The number 1197 is not Prime\n",
      "The number 1198 is not Prime\n",
      "The number 1199 is not Prime\n",
      "The number 1200 is not Prime\n",
      "The number 1201 is Prime\n",
      "The number 1202 is not Prime\n",
      "The number 1203 is not Prime\n",
      "The number 1204 is not Prime\n",
      "The number 1205 is not Prime\n",
      "The number 1206 is not Prime\n",
      "The number 1207 is not Prime\n",
      "The number 1208 is not Prime\n",
      "The number 1209 is not Prime\n",
      "The number 1210 is not Prime\n",
      "The number 1211 is not Prime\n",
      "The number 1212 is not Prime\n",
      "The number 1213 is Prime\n",
      "The number 1214 is not Prime\n",
      "The number 1215 is not Prime\n",
      "The number 1216 is not Prime\n",
      "The number 1217 is Prime\n",
      "The number 1218 is not Prime\n",
      "The number 1219 is not Prime\n",
      "The number 1220 is not Prime\n",
      "The number 1221 is not Prime\n",
      "The number 1222 is not Prime\n",
      "The number 1223 is Prime\n",
      "The number 1224 is not Prime\n",
      "The number 1225 is not Prime\n",
      "The number 1226 is not Prime\n",
      "The number 1227 is not Prime\n",
      "The number 1228 is not Prime\n",
      "The number 1229 is Prime\n",
      "The number 1230 is not Prime\n",
      "The number 1231 is Prime\n",
      "The number 1232 is not Prime\n",
      "The number 1233 is not Prime\n",
      "The number 1234 is not Prime\n",
      "The number 1235 is not Prime\n",
      "The number 1236 is not Prime\n",
      "The number 1237 is Prime\n",
      "The number 1238 is not Prime\n",
      "The number 1239 is not Prime\n",
      "The number 1240 is not Prime\n",
      "The number 1241 is not Prime\n",
      "The number 1242 is not Prime\n",
      "The number 1243 is not Prime\n",
      "The number 1244 is not Prime\n",
      "The number 1245 is not Prime\n",
      "The number 1246 is not Prime\n",
      "The number 1247 is not Prime\n",
      "The number 1248 is not Prime\n",
      "The number 1249 is Prime\n",
      "The number 1250 is not Prime\n",
      "The number 1251 is not Prime\n",
      "The number 1252 is not Prime\n",
      "The number 1253 is not Prime\n",
      "The number 1254 is not Prime\n",
      "The number 1255 is not Prime\n",
      "The number 1256 is not Prime\n",
      "The number 1257 is not Prime\n",
      "The number 1258 is not Prime\n",
      "The number 1259 is Prime\n",
      "The number 1260 is not Prime\n",
      "The number 1261 is not Prime\n",
      "The number 1262 is not Prime\n",
      "The number 1263 is not Prime\n",
      "The number 1264 is not Prime\n",
      "The number 1265 is not Prime\n",
      "The number 1266 is not Prime\n",
      "The number 1267 is not Prime\n",
      "The number 1268 is not Prime\n",
      "The number 1269 is not Prime\n",
      "The number 1270 is not Prime\n",
      "The number 1271 is not Prime\n",
      "The number 1272 is not Prime\n",
      "The number 1273 is not Prime\n",
      "The number 1274 is not Prime\n",
      "The number 1275 is not Prime\n",
      "The number 1276 is not Prime\n",
      "The number 1277 is Prime\n",
      "The number 1278 is not Prime\n",
      "The number 1279 is Prime\n",
      "The number 1280 is not Prime\n",
      "The number 1281 is not Prime\n",
      "The number 1282 is not Prime\n",
      "The number 1283 is Prime\n",
      "The number 1284 is not Prime\n",
      "The number 1285 is not Prime\n",
      "The number 1286 is not Prime\n",
      "The number 1287 is not Prime\n",
      "The number 1288 is not Prime\n",
      "The number 1289 is Prime\n",
      "The number 1290 is not Prime\n",
      "The number 1291 is Prime\n",
      "The number 1292 is not Prime\n",
      "The number 1293 is not Prime\n",
      "The number 1294 is not Prime\n",
      "The number 1295 is not Prime\n",
      "The number 1296 is not Prime\n",
      "The number 1297 is Prime\n",
      "The number 1298 is not Prime\n",
      "The number 1299 is not Prime\n",
      "The number 1300 is not Prime\n",
      "The number 1301 is Prime\n",
      "The number 1302 is not Prime\n",
      "The number 1303 is Prime\n",
      "The number 1304 is not Prime\n",
      "The number 1305 is not Prime\n",
      "The number 1306 is not Prime\n",
      "The number 1307 is Prime\n",
      "The number 1308 is not Prime\n",
      "The number 1309 is not Prime\n",
      "The number 1310 is not Prime\n",
      "The number 1311 is not Prime\n",
      "The number 1312 is not Prime\n",
      "The number 1313 is not Prime\n",
      "The number 1314 is not Prime\n",
      "The number 1315 is not Prime\n",
      "The number 1316 is not Prime\n",
      "The number 1317 is not Prime\n",
      "The number 1318 is not Prime\n",
      "The number 1319 is Prime\n",
      "The number 1320 is not Prime\n",
      "The number 1321 is Prime\n",
      "The number 1322 is not Prime\n",
      "The number 1323 is not Prime\n",
      "The number 1324 is not Prime\n",
      "The number 1325 is not Prime\n",
      "The number 1326 is not Prime\n",
      "The number 1327 is Prime\n",
      "The number 1328 is not Prime\n",
      "The number 1329 is not Prime\n",
      "The number 1330 is not Prime\n",
      "The number 1331 is not Prime\n",
      "The number 1332 is not Prime\n",
      "The number 1333 is not Prime\n",
      "The number 1334 is not Prime\n",
      "The number 1335 is not Prime\n",
      "The number 1336 is not Prime\n",
      "The number 1337 is not Prime\n",
      "The number 1338 is not Prime\n",
      "The number 1339 is not Prime\n",
      "The number 1340 is not Prime\n",
      "The number 1341 is not Prime\n",
      "The number 1342 is not Prime\n",
      "The number 1343 is not Prime\n",
      "The number 1344 is not Prime\n",
      "The number 1345 is not Prime\n",
      "The number 1346 is not Prime\n",
      "The number 1347 is not Prime\n",
      "The number 1348 is not Prime\n",
      "The number 1349 is not Prime\n",
      "The number 1350 is not Prime\n",
      "The number 1351 is not Prime\n",
      "The number 1352 is not Prime\n",
      "The number 1353 is not Prime\n",
      "The number 1354 is not Prime\n",
      "The number 1355 is not Prime\n",
      "The number 1356 is not Prime\n",
      "The number 1357 is not Prime\n",
      "The number 1358 is not Prime\n",
      "The number 1359 is not Prime\n",
      "The number 1360 is not Prime\n",
      "The number 1361 is Prime\n",
      "The number 1362 is not Prime\n",
      "The number 1363 is not Prime\n",
      "The number 1364 is not Prime\n",
      "The number 1365 is not Prime\n",
      "The number 1366 is not Prime\n",
      "The number 1367 is Prime\n",
      "The number 1368 is not Prime\n",
      "The number 1369 is not Prime\n",
      "The number 1370 is not Prime\n",
      "The number 1371 is not Prime\n",
      "The number 1372 is not Prime\n",
      "The number 1373 is Prime\n",
      "The number 1374 is not Prime\n",
      "The number 1375 is not Prime\n",
      "The number 1376 is not Prime\n",
      "The number 1377 is not Prime\n",
      "The number 1378 is not Prime\n",
      "The number 1379 is not Prime\n",
      "The number 1380 is not Prime\n",
      "The number 1381 is Prime\n",
      "The number 1382 is not Prime\n",
      "The number 1383 is not Prime\n",
      "The number 1384 is not Prime\n",
      "The number 1385 is not Prime\n",
      "The number 1386 is not Prime\n",
      "The number 1387 is not Prime\n",
      "The number 1388 is not Prime\n",
      "The number 1389 is not Prime\n",
      "The number 1390 is not Prime\n",
      "The number 1391 is not Prime\n",
      "The number 1392 is not Prime\n",
      "The number 1393 is not Prime\n",
      "The number 1394 is not Prime\n",
      "The number 1395 is not Prime\n",
      "The number 1396 is not Prime\n",
      "The number 1397 is not Prime\n",
      "The number 1398 is not Prime\n",
      "The number 1399 is Prime\n",
      "The number 1400 is not Prime\n",
      "The number 1401 is not Prime\n",
      "The number 1402 is not Prime\n",
      "The number 1403 is not Prime\n",
      "The number 1404 is not Prime\n",
      "The number 1405 is not Prime\n",
      "The number 1406 is not Prime\n",
      "The number 1407 is not Prime\n",
      "The number 1408 is not Prime\n",
      "The number 1409 is Prime\n",
      "The number 1410 is not Prime\n",
      "The number 1411 is not Prime\n",
      "The number 1412 is not Prime\n",
      "The number 1413 is not Prime\n",
      "The number 1414 is not Prime\n",
      "The number 1415 is not Prime\n",
      "The number 1416 is not Prime\n",
      "The number 1417 is not Prime\n",
      "The number 1418 is not Prime\n",
      "The number 1419 is not Prime\n",
      "The number 1420 is not Prime\n",
      "The number 1421 is not Prime\n",
      "The number 1422 is not Prime\n",
      "The number 1423 is Prime\n",
      "The number 1424 is not Prime\n",
      "The number 1425 is not Prime\n",
      "The number 1426 is not Prime\n",
      "The number 1427 is Prime\n",
      "The number 1428 is not Prime\n",
      "The number 1429 is Prime\n",
      "The number 1430 is not Prime\n",
      "The number 1431 is not Prime\n",
      "The number 1432 is not Prime\n",
      "The number 1433 is Prime\n",
      "The number 1434 is not Prime\n",
      "The number 1435 is not Prime\n",
      "The number 1436 is not Prime\n",
      "The number 1437 is not Prime\n",
      "The number 1438 is not Prime\n",
      "The number 1439 is Prime\n",
      "The number 1440 is not Prime\n",
      "The number 1441 is not Prime\n",
      "The number 1442 is not Prime\n",
      "The number 1443 is not Prime\n",
      "The number 1444 is not Prime\n",
      "The number 1445 is not Prime\n",
      "The number 1446 is not Prime\n",
      "The number 1447 is Prime\n",
      "The number 1448 is not Prime\n",
      "The number 1449 is not Prime\n",
      "The number 1450 is not Prime\n",
      "The number 1451 is Prime\n",
      "The number 1452 is not Prime\n",
      "The number 1453 is Prime\n",
      "The number 1454 is not Prime\n",
      "The number 1455 is not Prime\n",
      "The number 1456 is not Prime\n",
      "The number 1457 is not Prime\n",
      "The number 1458 is not Prime\n",
      "The number 1459 is Prime\n",
      "The number 1460 is not Prime\n",
      "The number 1461 is not Prime\n",
      "The number 1462 is not Prime\n",
      "The number 1463 is not Prime\n",
      "The number 1464 is not Prime\n",
      "The number 1465 is not Prime\n",
      "The number 1466 is not Prime\n",
      "The number 1467 is not Prime\n",
      "The number 1468 is not Prime\n",
      "The number 1469 is not Prime\n",
      "The number 1470 is not Prime\n",
      "The number 1471 is Prime\n",
      "The number 1472 is not Prime\n",
      "The number 1473 is not Prime\n",
      "The number 1474 is not Prime\n",
      "The number 1475 is not Prime\n",
      "The number 1476 is not Prime\n",
      "The number 1477 is not Prime\n",
      "The number 1478 is not Prime\n",
      "The number 1479 is not Prime\n",
      "The number 1480 is not Prime\n",
      "The number 1481 is Prime\n",
      "The number 1482 is not Prime\n",
      "The number 1483 is Prime\n",
      "The number 1484 is not Prime\n",
      "The number 1485 is not Prime\n",
      "The number 1486 is not Prime\n",
      "The number 1487 is Prime\n",
      "The number 1488 is not Prime\n",
      "The number 1489 is Prime\n",
      "The number 1490 is not Prime\n",
      "The number 1491 is not Prime\n",
      "The number 1492 is not Prime\n",
      "The number 1493 is Prime\n",
      "The number 1494 is not Prime\n",
      "The number 1495 is not Prime\n",
      "The number 1496 is not Prime\n",
      "The number 1497 is not Prime\n",
      "The number 1498 is not Prime\n",
      "The number 1499 is Prime\n",
      "The number 1500 is not Prime\n",
      "The number 1501 is not Prime\n",
      "The number 1502 is not Prime\n",
      "The number 1503 is not Prime\n",
      "The number 1504 is not Prime\n",
      "The number 1505 is not Prime\n",
      "The number 1506 is not Prime\n",
      "The number 1507 is not Prime\n",
      "The number 1508 is not Prime\n",
      "The number 1509 is not Prime\n",
      "The number 1510 is not Prime\n",
      "The number 1511 is Prime\n",
      "The number 1512 is not Prime\n",
      "The number 1513 is not Prime\n",
      "The number 1514 is not Prime\n",
      "The number 1515 is not Prime\n",
      "The number 1516 is not Prime\n",
      "The number 1517 is not Prime\n",
      "The number 1518 is not Prime\n",
      "The number 1519 is not Prime\n",
      "The number 1520 is not Prime\n",
      "The number 1521 is not Prime\n",
      "The number 1522 is not Prime\n",
      "The number 1523 is Prime\n",
      "The number 1524 is not Prime\n",
      "The number 1525 is not Prime\n",
      "The number 1526 is not Prime\n",
      "The number 1527 is not Prime\n",
      "The number 1528 is not Prime\n",
      "The number 1529 is not Prime\n",
      "The number 1530 is not Prime\n",
      "The number 1531 is Prime\n",
      "The number 1532 is not Prime\n",
      "The number 1533 is not Prime\n",
      "The number 1534 is not Prime\n",
      "The number 1535 is not Prime\n",
      "The number 1536 is not Prime\n",
      "The number 1537 is not Prime\n",
      "The number 1538 is not Prime\n",
      "The number 1539 is not Prime\n",
      "The number 1540 is not Prime\n",
      "The number 1541 is not Prime\n",
      "The number 1542 is not Prime\n",
      "The number 1543 is Prime\n",
      "The number 1544 is not Prime\n",
      "The number 1545 is not Prime\n",
      "The number 1546 is not Prime\n",
      "The number 1547 is not Prime\n",
      "The number 1548 is not Prime\n",
      "The number 1549 is Prime\n",
      "The number 1550 is not Prime\n",
      "The number 1551 is not Prime\n",
      "The number 1552 is not Prime\n",
      "The number 1553 is Prime\n",
      "The number 1554 is not Prime\n",
      "The number 1555 is not Prime\n",
      "The number 1556 is not Prime\n",
      "The number 1557 is not Prime\n",
      "The number 1558 is not Prime\n",
      "The number 1559 is Prime\n",
      "The number 1560 is not Prime\n",
      "The number 1561 is not Prime\n",
      "The number 1562 is not Prime\n",
      "The number 1563 is not Prime\n",
      "The number 1564 is not Prime\n",
      "The number 1565 is not Prime\n",
      "The number 1566 is not Prime\n",
      "The number 1567 is Prime\n",
      "The number 1568 is not Prime\n",
      "The number 1569 is not Prime\n",
      "The number 1570 is not Prime\n",
      "The number 1571 is Prime\n",
      "The number 1572 is not Prime\n",
      "The number 1573 is not Prime\n",
      "The number 1574 is not Prime\n",
      "The number 1575 is not Prime\n",
      "The number 1576 is not Prime\n",
      "The number 1577 is not Prime\n",
      "The number 1578 is not Prime\n",
      "The number 1579 is Prime\n",
      "The number 1580 is not Prime\n",
      "The number 1581 is not Prime\n",
      "The number 1582 is not Prime\n",
      "The number 1583 is Prime\n",
      "The number 1584 is not Prime\n",
      "The number 1585 is not Prime\n",
      "The number 1586 is not Prime\n",
      "The number 1587 is not Prime\n",
      "The number 1588 is not Prime\n",
      "The number 1589 is not Prime\n",
      "The number 1590 is not Prime\n",
      "The number 1591 is not Prime\n",
      "The number 1592 is not Prime\n",
      "The number 1593 is not Prime\n",
      "The number 1594 is not Prime\n",
      "The number 1595 is not Prime\n",
      "The number 1596 is not Prime\n",
      "The number 1597 is Prime\n",
      "The number 1598 is not Prime\n",
      "The number 1599 is not Prime\n",
      "The number 1600 is not Prime\n",
      "The number 1601 is Prime\n",
      "The number 1602 is not Prime\n",
      "The number 1603 is not Prime\n",
      "The number 1604 is not Prime\n",
      "The number 1605 is not Prime\n",
      "The number 1606 is not Prime\n",
      "The number 1607 is Prime\n",
      "The number 1608 is not Prime\n",
      "The number 1609 is Prime\n",
      "The number 1610 is not Prime\n",
      "The number 1611 is not Prime\n",
      "The number 1612 is not Prime\n",
      "The number 1613 is Prime\n",
      "The number 1614 is not Prime\n",
      "The number 1615 is not Prime\n",
      "The number 1616 is not Prime\n",
      "The number 1617 is not Prime\n",
      "The number 1618 is not Prime\n",
      "The number 1619 is Prime\n",
      "The number 1620 is not Prime\n",
      "The number 1621 is Prime\n",
      "The number 1622 is not Prime\n",
      "The number 1623 is not Prime\n",
      "The number 1624 is not Prime\n",
      "The number 1625 is not Prime\n",
      "The number 1626 is not Prime\n",
      "The number 1627 is Prime\n",
      "The number 1628 is not Prime\n",
      "The number 1629 is not Prime\n",
      "The number 1630 is not Prime\n",
      "The number 1631 is not Prime\n",
      "The number 1632 is not Prime\n",
      "The number 1633 is not Prime\n",
      "The number 1634 is not Prime\n",
      "The number 1635 is not Prime\n",
      "The number 1636 is not Prime\n",
      "The number 1637 is Prime\n",
      "The number 1638 is not Prime\n",
      "The number 1639 is not Prime\n",
      "The number 1640 is not Prime\n",
      "The number 1641 is not Prime\n",
      "The number 1642 is not Prime\n",
      "The number 1643 is not Prime\n",
      "The number 1644 is not Prime\n",
      "The number 1645 is not Prime\n",
      "The number 1646 is not Prime\n",
      "The number 1647 is not Prime\n",
      "The number 1648 is not Prime\n",
      "The number 1649 is not Prime\n",
      "The number 1650 is not Prime\n",
      "The number 1651 is not Prime\n",
      "The number 1652 is not Prime\n",
      "The number 1653 is not Prime\n",
      "The number 1654 is not Prime\n",
      "The number 1655 is not Prime\n",
      "The number 1656 is not Prime\n",
      "The number 1657 is Prime\n",
      "The number 1658 is not Prime\n",
      "The number 1659 is not Prime\n",
      "The number 1660 is not Prime\n",
      "The number 1661 is not Prime\n",
      "The number 1662 is not Prime\n",
      "The number 1663 is Prime\n",
      "The number 1664 is not Prime\n",
      "The number 1665 is not Prime\n",
      "The number 1666 is not Prime\n",
      "The number 1667 is Prime\n",
      "The number 1668 is not Prime\n",
      "The number 1669 is Prime\n",
      "The number 1670 is not Prime\n",
      "The number 1671 is not Prime\n",
      "The number 1672 is not Prime\n",
      "The number 1673 is not Prime\n",
      "The number 1674 is not Prime\n",
      "The number 1675 is not Prime\n",
      "The number 1676 is not Prime\n",
      "The number 1677 is not Prime\n",
      "The number 1678 is not Prime\n",
      "The number 1679 is not Prime\n",
      "The number 1680 is not Prime\n",
      "The number 1681 is not Prime\n",
      "The number 1682 is not Prime\n",
      "The number 1683 is not Prime\n",
      "The number 1684 is not Prime\n",
      "The number 1685 is not Prime\n",
      "The number 1686 is not Prime\n",
      "The number 1687 is not Prime\n",
      "The number 1688 is not Prime\n",
      "The number 1689 is not Prime\n",
      "The number 1690 is not Prime\n",
      "The number 1691 is not Prime\n",
      "The number 1692 is not Prime\n",
      "The number 1693 is Prime\n",
      "The number 1694 is not Prime\n",
      "The number 1695 is not Prime\n",
      "The number 1696 is not Prime\n",
      "The number 1697 is Prime\n",
      "The number 1698 is not Prime\n",
      "The number 1699 is Prime\n",
      "The number 1700 is not Prime\n",
      "The number 1701 is not Prime\n",
      "The number 1702 is not Prime\n",
      "The number 1703 is not Prime\n",
      "The number 1704 is not Prime\n",
      "The number 1705 is not Prime\n",
      "The number 1706 is not Prime\n",
      "The number 1707 is not Prime\n",
      "The number 1708 is not Prime\n",
      "The number 1709 is Prime\n",
      "The number 1710 is not Prime\n",
      "The number 1711 is not Prime\n",
      "The number 1712 is not Prime\n",
      "The number 1713 is not Prime\n",
      "The number 1714 is not Prime\n",
      "The number 1715 is not Prime\n",
      "The number 1716 is not Prime\n",
      "The number 1717 is not Prime\n",
      "The number 1718 is not Prime\n",
      "The number 1719 is not Prime\n",
      "The number 1720 is not Prime\n",
      "The number 1721 is Prime\n",
      "The number 1722 is not Prime\n",
      "The number 1723 is Prime\n",
      "The number 1724 is not Prime\n",
      "The number 1725 is not Prime\n",
      "The number 1726 is not Prime\n",
      "The number 1727 is not Prime\n",
      "The number 1728 is not Prime\n",
      "The number 1729 is not Prime\n",
      "The number 1730 is not Prime\n",
      "The number 1731 is not Prime\n",
      "The number 1732 is not Prime\n",
      "The number 1733 is Prime\n",
      "The number 1734 is not Prime\n",
      "The number 1735 is not Prime\n",
      "The number 1736 is not Prime\n",
      "The number 1737 is not Prime\n",
      "The number 1738 is not Prime\n",
      "The number 1739 is not Prime\n",
      "The number 1740 is not Prime\n",
      "The number 1741 is Prime\n",
      "The number 1742 is not Prime\n",
      "The number 1743 is not Prime\n",
      "The number 1744 is not Prime\n",
      "The number 1745 is not Prime\n",
      "The number 1746 is not Prime\n",
      "The number 1747 is Prime\n",
      "The number 1748 is not Prime\n",
      "The number 1749 is not Prime\n",
      "The number 1750 is not Prime\n",
      "The number 1751 is not Prime\n",
      "The number 1752 is not Prime\n",
      "The number 1753 is Prime\n",
      "The number 1754 is not Prime\n",
      "The number 1755 is not Prime\n",
      "The number 1756 is not Prime\n",
      "The number 1757 is not Prime\n",
      "The number 1758 is not Prime\n",
      "The number 1759 is Prime\n",
      "The number 1760 is not Prime\n",
      "The number 1761 is not Prime\n",
      "The number 1762 is not Prime\n",
      "The number 1763 is not Prime\n",
      "The number 1764 is not Prime\n",
      "The number 1765 is not Prime\n",
      "The number 1766 is not Prime\n",
      "The number 1767 is not Prime\n",
      "The number 1768 is not Prime\n",
      "The number 1769 is not Prime\n",
      "The number 1770 is not Prime\n",
      "The number 1771 is not Prime\n",
      "The number 1772 is not Prime\n",
      "The number 1773 is not Prime\n",
      "The number 1774 is not Prime\n",
      "The number 1775 is not Prime\n",
      "The number 1776 is not Prime\n",
      "The number 1777 is Prime\n",
      "The number 1778 is not Prime\n",
      "The number 1779 is not Prime\n",
      "The number 1780 is not Prime\n",
      "The number 1781 is not Prime\n",
      "The number 1782 is not Prime\n",
      "The number 1783 is Prime\n",
      "The number 1784 is not Prime\n",
      "The number 1785 is not Prime\n",
      "The number 1786 is not Prime\n",
      "The number 1787 is Prime\n",
      "The number 1788 is not Prime\n",
      "The number 1789 is Prime\n",
      "The number 1790 is not Prime\n",
      "The number 1791 is not Prime\n",
      "The number 1792 is not Prime\n",
      "The number 1793 is not Prime\n",
      "The number 1794 is not Prime\n",
      "The number 1795 is not Prime\n",
      "The number 1796 is not Prime\n",
      "The number 1797 is not Prime\n",
      "The number 1798 is not Prime\n",
      "The number 1799 is not Prime\n",
      "The number 1800 is not Prime\n",
      "The number 1801 is Prime\n",
      "The number 1802 is not Prime\n",
      "The number 1803 is not Prime\n",
      "The number 1804 is not Prime\n",
      "The number 1805 is not Prime\n",
      "The number 1806 is not Prime\n",
      "The number 1807 is not Prime\n",
      "The number 1808 is not Prime\n",
      "The number 1809 is not Prime\n",
      "The number 1810 is not Prime\n",
      "The number 1811 is Prime\n",
      "The number 1812 is not Prime\n",
      "The number 1813 is not Prime\n",
      "The number 1814 is not Prime\n",
      "The number 1815 is not Prime\n",
      "The number 1816 is not Prime\n",
      "The number 1817 is not Prime\n",
      "The number 1818 is not Prime\n",
      "The number 1819 is not Prime\n",
      "The number 1820 is not Prime\n",
      "The number 1821 is not Prime\n",
      "The number 1822 is not Prime\n",
      "The number 1823 is Prime\n",
      "The number 1824 is not Prime\n",
      "The number 1825 is not Prime\n",
      "The number 1826 is not Prime\n",
      "The number 1827 is not Prime\n",
      "The number 1828 is not Prime\n",
      "The number 1829 is not Prime\n",
      "The number 1830 is not Prime\n",
      "The number 1831 is Prime\n",
      "The number 1832 is not Prime\n",
      "The number 1833 is not Prime\n",
      "The number 1834 is not Prime\n",
      "The number 1835 is not Prime\n",
      "The number 1836 is not Prime\n",
      "The number 1837 is not Prime\n",
      "The number 1838 is not Prime\n",
      "The number 1839 is not Prime\n",
      "The number 1840 is not Prime\n",
      "The number 1841 is not Prime\n",
      "The number 1842 is not Prime\n",
      "The number 1843 is not Prime\n",
      "The number 1844 is not Prime\n",
      "The number 1845 is not Prime\n",
      "The number 1846 is not Prime\n",
      "The number 1847 is Prime\n",
      "The number 1848 is not Prime\n",
      "The number 1849 is not Prime\n",
      "The number 1850 is not Prime\n",
      "The number 1851 is not Prime\n",
      "The number 1852 is not Prime\n",
      "The number 1853 is not Prime\n",
      "The number 1854 is not Prime\n",
      "The number 1855 is not Prime\n",
      "The number 1856 is not Prime\n",
      "The number 1857 is not Prime\n",
      "The number 1858 is not Prime\n",
      "The number 1859 is not Prime\n",
      "The number 1860 is not Prime\n",
      "The number 1861 is Prime\n",
      "The number 1862 is not Prime\n",
      "The number 1863 is not Prime\n",
      "The number 1864 is not Prime\n",
      "The number 1865 is not Prime\n",
      "The number 1866 is not Prime\n",
      "The number 1867 is Prime\n",
      "The number 1868 is not Prime\n",
      "The number 1869 is not Prime\n",
      "The number 1870 is not Prime\n",
      "The number 1871 is Prime\n",
      "The number 1872 is not Prime\n",
      "The number 1873 is Prime\n",
      "The number 1874 is not Prime\n",
      "The number 1875 is not Prime\n",
      "The number 1876 is not Prime\n",
      "The number 1877 is Prime\n",
      "The number 1878 is not Prime\n",
      "The number 1879 is Prime\n",
      "The number 1880 is not Prime\n",
      "The number 1881 is not Prime\n",
      "The number 1882 is not Prime\n",
      "The number 1883 is not Prime\n",
      "The number 1884 is not Prime\n",
      "The number 1885 is not Prime\n",
      "The number 1886 is not Prime\n",
      "The number 1887 is not Prime\n",
      "The number 1888 is not Prime\n",
      "The number 1889 is Prime\n",
      "The number 1890 is not Prime\n",
      "The number 1891 is not Prime\n",
      "The number 1892 is not Prime\n",
      "The number 1893 is not Prime\n",
      "The number 1894 is not Prime\n",
      "The number 1895 is not Prime\n",
      "The number 1896 is not Prime\n",
      "The number 1897 is not Prime\n",
      "The number 1898 is not Prime\n",
      "The number 1899 is not Prime\n",
      "The number 1900 is not Prime\n",
      "The number 1901 is Prime\n",
      "The number 1902 is not Prime\n",
      "The number 1903 is not Prime\n",
      "The number 1904 is not Prime\n",
      "The number 1905 is not Prime\n",
      "The number 1906 is not Prime\n",
      "The number 1907 is Prime\n",
      "The number 1908 is not Prime\n",
      "The number 1909 is not Prime\n",
      "The number 1910 is not Prime\n",
      "The number 1911 is not Prime\n",
      "The number 1912 is not Prime\n",
      "The number 1913 is Prime\n",
      "The number 1914 is not Prime\n",
      "The number 1915 is not Prime\n",
      "The number 1916 is not Prime\n",
      "The number 1917 is not Prime\n",
      "The number 1918 is not Prime\n",
      "The number 1919 is not Prime\n",
      "The number 1920 is not Prime\n",
      "The number 1921 is not Prime\n",
      "The number 1922 is not Prime\n",
      "The number 1923 is not Prime\n",
      "The number 1924 is not Prime\n",
      "The number 1925 is not Prime\n",
      "The number 1926 is not Prime\n",
      "The number 1927 is not Prime\n",
      "The number 1928 is not Prime\n",
      "The number 1929 is not Prime\n",
      "The number 1930 is not Prime\n",
      "The number 1931 is Prime\n",
      "The number 1932 is not Prime\n",
      "The number 1933 is Prime\n",
      "The number 1934 is not Prime\n",
      "The number 1935 is not Prime\n",
      "The number 1936 is not Prime\n",
      "The number 1937 is not Prime\n",
      "The number 1938 is not Prime\n",
      "The number 1939 is not Prime\n",
      "The number 1940 is not Prime\n",
      "The number 1941 is not Prime\n",
      "The number 1942 is not Prime\n",
      "The number 1943 is not Prime\n",
      "The number 1944 is not Prime\n",
      "The number 1945 is not Prime\n",
      "The number 1946 is not Prime\n",
      "The number 1947 is not Prime\n",
      "The number 1948 is not Prime\n",
      "The number 1949 is Prime\n",
      "The number 1950 is not Prime\n",
      "The number 1951 is Prime\n",
      "The number 1952 is not Prime\n",
      "The number 1953 is not Prime\n",
      "The number 1954 is not Prime\n",
      "The number 1955 is not Prime\n",
      "The number 1956 is not Prime\n",
      "The number 1957 is not Prime\n",
      "The number 1958 is not Prime\n",
      "The number 1959 is not Prime\n",
      "The number 1960 is not Prime\n",
      "The number 1961 is not Prime\n",
      "The number 1962 is not Prime\n",
      "The number 1963 is not Prime\n",
      "The number 1964 is not Prime\n",
      "The number 1965 is not Prime\n",
      "The number 1966 is not Prime\n",
      "The number 1967 is not Prime\n",
      "The number 1968 is not Prime\n",
      "The number 1969 is not Prime\n",
      "The number 1970 is not Prime\n",
      "The number 1971 is not Prime\n",
      "The number 1972 is not Prime\n",
      "The number 1973 is Prime\n",
      "The number 1974 is not Prime\n",
      "The number 1975 is not Prime\n",
      "The number 1976 is not Prime\n",
      "The number 1977 is not Prime\n",
      "The number 1978 is not Prime\n",
      "The number 1979 is Prime\n",
      "The number 1980 is not Prime\n",
      "The number 1981 is not Prime\n",
      "The number 1982 is not Prime\n",
      "The number 1983 is not Prime\n",
      "The number 1984 is not Prime\n",
      "The number 1985 is not Prime\n",
      "The number 1986 is not Prime\n",
      "The number 1987 is Prime\n",
      "The number 1988 is not Prime\n",
      "The number 1989 is not Prime\n",
      "The number 1990 is not Prime\n",
      "The number 1991 is not Prime\n",
      "The number 1992 is not Prime\n",
      "The number 1993 is Prime\n",
      "The number 1994 is not Prime\n",
      "The number 1995 is not Prime\n",
      "The number 1996 is not Prime\n",
      "The number 1997 is Prime\n",
      "The number 1998 is not Prime\n",
      "The number 1999 is Prime\n"
     ]
    }
   ],
   "source": [
    "for num in range(1000, 2000):\n",
    "    for i in range(2,num):\n",
    "        if num%i==0:\n",
    "            print(\"The number {} is not Prime\".format(num))\n",
    "            break\n",
    "    else:\n",
    "        print(\"The number {} is Prime\".format(num))"
   ]
  },
  {
   "cell_type": "markdown",
   "metadata": {},
   "source": [
    "### Q12) Given a range of first 10 numbers, iterate from the start number to the end number, and in each iteration print the sum of current number and previous numbers."
   ]
  },
  {
   "cell_type": "code",
   "execution_count": 8,
   "metadata": {},
   "outputs": [
    {
     "name": "stdout",
     "output_type": "stream",
     "text": [
      "Iteration: 1 ==> summation: 1\n",
      "Iteration: 2 ==> summation: 3\n",
      "Iteration: 3 ==> summation: 6\n",
      "Iteration: 4 ==> summation: 10\n",
      "Iteration: 5 ==> summation: 15\n",
      "Iteration: 6 ==> summation: 21\n",
      "Iteration: 7 ==> summation: 28\n",
      "Iteration: 8 ==> summation: 36\n",
      "Iteration: 9 ==> summation: 45\n",
      "Iteration: 10 ==> summation: 55\n"
     ]
    }
   ],
   "source": [
    "for i in range(1,11):\n",
    "    sum1 = 0\n",
    "    for j in range(1,i+1):\n",
    "        sum1 += j\n",
    "    print(\"Iteration: {} ==> summation: {}\".format(i, sum1))"
   ]
  },
  {
   "cell_type": "code",
   "execution_count": 9,
   "metadata": {},
   "outputs": [
    {
     "name": "stdout",
     "output_type": "stream",
     "text": [
      "Iteration: 1 ==> Summation: 1\n",
      "Iteration: 2 ==> Summation: 3\n",
      "Iteration: 3 ==> Summation: 6\n",
      "Iteration: 4 ==> Summation: 10\n",
      "Iteration: 5 ==> Summation: 15\n",
      "Iteration: 6 ==> Summation: 21\n",
      "Iteration: 7 ==> Summation: 28\n",
      "Iteration: 8 ==> Summation: 36\n",
      "Iteration: 9 ==> Summation: 45\n",
      "Iteration: 10 ==> Summation: 55\n"
     ]
    }
   ],
   "source": [
    "i = 1\n",
    "\n",
    "while i<=10:\n",
    "    sum1 = 0\n",
    "    j = 1\n",
    "    while j<=i:\n",
    "        sum1 += j\n",
    "        j += 1\n",
    "    print(\"Iteration: {} ==> Summation: {}\".format(i, sum1))\n",
    "    i += 1"
   ]
  },
  {
   "cell_type": "markdown",
   "metadata": {},
   "source": [
    "### Q13) Write a code to reverse an integer number."
   ]
  },
  {
   "cell_type": "code",
   "execution_count": 11,
   "metadata": {},
   "outputs": [
    {
     "name": "stdout",
     "output_type": "stream",
     "text": [
      "Enter a number: 456\n",
      "654\n"
     ]
    }
   ],
   "source": [
    "num = input(\"Enter a number: \")\n",
    "\n",
    "reverse_number = num[::-1]\n",
    "print(reverse_number)"
   ]
  },
  {
   "cell_type": "markdown",
   "metadata": {},
   "source": [
    "### Q14) Return the largest item in the given list."
   ]
  },
  {
   "cell_type": "code",
   "execution_count": 15,
   "metadata": {},
   "outputs": [
    {
     "name": "stdout",
     "output_type": "stream",
     "text": [
      "108\n"
     ]
    }
   ],
   "source": [
    "num_lst = [15,24,68,1,2,5,108,44,23,56,17,72]\n",
    "max_num = num_lst[0]\n",
    "\n",
    "for i in num_lst[1:]:\n",
    "    if i>max_num:\n",
    "        max_num = i\n",
    "print(max_num)"
   ]
  },
  {
   "cell_type": "code",
   "execution_count": 16,
   "metadata": {},
   "outputs": [
    {
     "name": "stdout",
     "output_type": "stream",
     "text": [
      "108\n"
     ]
    }
   ],
   "source": [
    "num_lst = [15,24,68,1,2,5,108,44,23,56,17,72]\n",
    "\n",
    "max_num = max(num_lst)\n",
    "print(max_num)"
   ]
  },
  {
   "cell_type": "markdown",
   "metadata": {},
   "source": [
    "### Q15) Write a function that takes the base and height of a triangle and return its area."
   ]
  },
  {
   "cell_type": "code",
   "execution_count": 17,
   "metadata": {},
   "outputs": [],
   "source": [
    "def area_of_triangle(base, height):\n",
    "    area = 0.5*base*height\n",
    "    return area"
   ]
  },
  {
   "cell_type": "code",
   "execution_count": 20,
   "metadata": {},
   "outputs": [
    {
     "name": "stdout",
     "output_type": "stream",
     "text": [
      "240.0\n"
     ]
    }
   ],
   "source": [
    "area = area_of_triangle(12,40)\n",
    "print(area)"
   ]
  },
  {
   "cell_type": "markdown",
   "metadata": {},
   "source": [
    "### Q16) Write a program to swap two variables."
   ]
  },
  {
   "cell_type": "code",
   "execution_count": 22,
   "metadata": {},
   "outputs": [
    {
     "name": "stdout",
     "output_type": "stream",
     "text": [
      "a =  50\n",
      "b =  30\n"
     ]
    }
   ],
   "source": [
    "a = 30\n",
    "b = 50\n",
    "\n",
    "temp = a\n",
    "a = b\n",
    "b = temp\n",
    "\n",
    "print(\"a = \", a)\n",
    "print(\"b = \", b)"
   ]
  },
  {
   "cell_type": "code",
   "execution_count": 24,
   "metadata": {},
   "outputs": [
    {
     "name": "stdout",
     "output_type": "stream",
     "text": [
      "a = 50\n",
      "b = 30\n"
     ]
    }
   ],
   "source": [
    "a = 30\n",
    "b = 50\n",
    "\n",
    "a, b = b, a\n",
    "\n",
    "print('a =', a)\n",
    "print('b =', b)"
   ]
  },
  {
   "cell_type": "markdown",
   "metadata": {},
   "source": [
    "### Q17) Write a program to swap two variables (without using temp variable)."
   ]
  },
  {
   "cell_type": "code",
   "execution_count": 27,
   "metadata": {},
   "outputs": [
    {
     "name": "stdout",
     "output_type": "stream",
     "text": [
      "a = 50\n",
      "b = 30\n"
     ]
    }
   ],
   "source": [
    "a = 30\n",
    "b = 50\n",
    "\n",
    "a = a+b   # a=80 and b=50\n",
    "b = a-b   # a=80 and b=30\n",
    "a = a-b   # a=50 and b=30\n",
    "\n",
    "print('a =', a)\n",
    "print('b =', b)"
   ]
  },
  {
   "cell_type": "markdown",
   "metadata": {},
   "source": [
    "### Q18) Write a program to find out the average of a set of intergers."
   ]
  },
  {
   "cell_type": "code",
   "execution_count": 28,
   "metadata": {},
   "outputs": [],
   "source": [
    "def get_average(num1):\n",
    "    sum1 = 0\n",
    "    for i in num1:\n",
    "        sum1 += i\n",
    "    average = sum1/len(num1)\n",
    "    return average"
   ]
  },
  {
   "cell_type": "code",
   "execution_count": 29,
   "metadata": {},
   "outputs": [
    {
     "data": {
      "text/plain": [
       "35.27272727272727"
      ]
     },
     "execution_count": 29,
     "metadata": {},
     "output_type": "execute_result"
    }
   ],
   "source": [
    "ages = [12,54,3,52,46,42,51,36,45,15,32]\n",
    "\n",
    "avg_age = get_average(ages)\n",
    "avg_age"
   ]
  },
  {
   "cell_type": "code",
   "execution_count": 30,
   "metadata": {},
   "outputs": [
    {
     "data": {
      "text/plain": [
       "35.27272727272727"
      ]
     },
     "execution_count": 30,
     "metadata": {},
     "output_type": "execute_result"
    }
   ],
   "source": [
    "ages = [12,54,3,52,46,42,51,36,45,15,32]\n",
    "\n",
    "avg_age = sum(ages)/len(ages)\n",
    "avg_age"
   ]
  },
  {
   "cell_type": "markdown",
   "metadata": {},
   "source": [
    "### Q19) Display the multiplication table from the table of 1 to the table of 12."
   ]
  },
  {
   "cell_type": "code",
   "execution_count": 32,
   "metadata": {},
   "outputs": [
    {
     "name": "stdout",
     "output_type": "stream",
     "text": [
      "1 * 1 = 1\n",
      "1 * 2 = 2\n",
      "1 * 3 = 3\n",
      "1 * 4 = 4\n",
      "1 * 5 = 5\n",
      "1 * 6 = 6\n",
      "1 * 7 = 7\n",
      "1 * 8 = 8\n",
      "1 * 9 = 9\n",
      "1 * 10 = 10\n",
      "\n",
      "2 * 1 = 2\n",
      "2 * 2 = 4\n",
      "2 * 3 = 6\n",
      "2 * 4 = 8\n",
      "2 * 5 = 10\n",
      "2 * 6 = 12\n",
      "2 * 7 = 14\n",
      "2 * 8 = 16\n",
      "2 * 9 = 18\n",
      "2 * 10 = 20\n",
      "\n",
      "3 * 1 = 3\n",
      "3 * 2 = 6\n",
      "3 * 3 = 9\n",
      "3 * 4 = 12\n",
      "3 * 5 = 15\n",
      "3 * 6 = 18\n",
      "3 * 7 = 21\n",
      "3 * 8 = 24\n",
      "3 * 9 = 27\n",
      "3 * 10 = 30\n",
      "\n",
      "4 * 1 = 4\n",
      "4 * 2 = 8\n",
      "4 * 3 = 12\n",
      "4 * 4 = 16\n",
      "4 * 5 = 20\n",
      "4 * 6 = 24\n",
      "4 * 7 = 28\n",
      "4 * 8 = 32\n",
      "4 * 9 = 36\n",
      "4 * 10 = 40\n",
      "\n",
      "5 * 1 = 5\n",
      "5 * 2 = 10\n",
      "5 * 3 = 15\n",
      "5 * 4 = 20\n",
      "5 * 5 = 25\n",
      "5 * 6 = 30\n",
      "5 * 7 = 35\n",
      "5 * 8 = 40\n",
      "5 * 9 = 45\n",
      "5 * 10 = 50\n",
      "\n",
      "6 * 1 = 6\n",
      "6 * 2 = 12\n",
      "6 * 3 = 18\n",
      "6 * 4 = 24\n",
      "6 * 5 = 30\n",
      "6 * 6 = 36\n",
      "6 * 7 = 42\n",
      "6 * 8 = 48\n",
      "6 * 9 = 54\n",
      "6 * 10 = 60\n",
      "\n",
      "7 * 1 = 7\n",
      "7 * 2 = 14\n",
      "7 * 3 = 21\n",
      "7 * 4 = 28\n",
      "7 * 5 = 35\n",
      "7 * 6 = 42\n",
      "7 * 7 = 49\n",
      "7 * 8 = 56\n",
      "7 * 9 = 63\n",
      "7 * 10 = 70\n",
      "\n",
      "8 * 1 = 8\n",
      "8 * 2 = 16\n",
      "8 * 3 = 24\n",
      "8 * 4 = 32\n",
      "8 * 5 = 40\n",
      "8 * 6 = 48\n",
      "8 * 7 = 56\n",
      "8 * 8 = 64\n",
      "8 * 9 = 72\n",
      "8 * 10 = 80\n",
      "\n",
      "9 * 1 = 9\n",
      "9 * 2 = 18\n",
      "9 * 3 = 27\n",
      "9 * 4 = 36\n",
      "9 * 5 = 45\n",
      "9 * 6 = 54\n",
      "9 * 7 = 63\n",
      "9 * 8 = 72\n",
      "9 * 9 = 81\n",
      "9 * 10 = 90\n",
      "\n",
      "10 * 1 = 10\n",
      "10 * 2 = 20\n",
      "10 * 3 = 30\n",
      "10 * 4 = 40\n",
      "10 * 5 = 50\n",
      "10 * 6 = 60\n",
      "10 * 7 = 70\n",
      "10 * 8 = 80\n",
      "10 * 9 = 90\n",
      "10 * 10 = 100\n",
      "\n",
      "11 * 1 = 11\n",
      "11 * 2 = 22\n",
      "11 * 3 = 33\n",
      "11 * 4 = 44\n",
      "11 * 5 = 55\n",
      "11 * 6 = 66\n",
      "11 * 7 = 77\n",
      "11 * 8 = 88\n",
      "11 * 9 = 99\n",
      "11 * 10 = 110\n",
      "\n",
      "12 * 1 = 12\n",
      "12 * 2 = 24\n",
      "12 * 3 = 36\n",
      "12 * 4 = 48\n",
      "12 * 5 = 60\n",
      "12 * 6 = 72\n",
      "12 * 7 = 84\n",
      "12 * 8 = 96\n",
      "12 * 9 = 108\n",
      "12 * 10 = 120\n",
      "\n"
     ]
    }
   ],
   "source": [
    "for i in range(1,13):\n",
    "    for j in range(1,11):\n",
    "        print(i, \"*\", j, \"=\", i*j)\n",
    "    print()"
   ]
  },
  {
   "cell_type": "code",
   "execution_count": 34,
   "metadata": {},
   "outputs": [
    {
     "name": "stdout",
     "output_type": "stream",
     "text": [
      "1 * 1 = 1\n",
      "1 * 2 = 2\n",
      "1 * 3 = 3\n",
      "1 * 4 = 4\n",
      "1 * 5 = 5\n",
      "1 * 6 = 6\n",
      "1 * 7 = 7\n",
      "1 * 8 = 8\n",
      "1 * 9 = 9\n",
      "1 * 10 = 10\n",
      "\n",
      "2 * 1 = 2\n",
      "2 * 2 = 4\n",
      "2 * 3 = 6\n",
      "2 * 4 = 8\n",
      "2 * 5 = 10\n",
      "2 * 6 = 12\n",
      "2 * 7 = 14\n",
      "2 * 8 = 16\n",
      "2 * 9 = 18\n",
      "2 * 10 = 20\n",
      "\n",
      "3 * 1 = 3\n",
      "3 * 2 = 6\n",
      "3 * 3 = 9\n",
      "3 * 4 = 12\n",
      "3 * 5 = 15\n",
      "3 * 6 = 18\n",
      "3 * 7 = 21\n",
      "3 * 8 = 24\n",
      "3 * 9 = 27\n",
      "3 * 10 = 30\n",
      "\n",
      "4 * 1 = 4\n",
      "4 * 2 = 8\n",
      "4 * 3 = 12\n",
      "4 * 4 = 16\n",
      "4 * 5 = 20\n",
      "4 * 6 = 24\n",
      "4 * 7 = 28\n",
      "4 * 8 = 32\n",
      "4 * 9 = 36\n",
      "4 * 10 = 40\n",
      "\n",
      "5 * 1 = 5\n",
      "5 * 2 = 10\n",
      "5 * 3 = 15\n",
      "5 * 4 = 20\n",
      "5 * 5 = 25\n",
      "5 * 6 = 30\n",
      "5 * 7 = 35\n",
      "5 * 8 = 40\n",
      "5 * 9 = 45\n",
      "5 * 10 = 50\n",
      "\n",
      "6 * 1 = 6\n",
      "6 * 2 = 12\n",
      "6 * 3 = 18\n",
      "6 * 4 = 24\n",
      "6 * 5 = 30\n",
      "6 * 6 = 36\n",
      "6 * 7 = 42\n",
      "6 * 8 = 48\n",
      "6 * 9 = 54\n",
      "6 * 10 = 60\n",
      "\n",
      "7 * 1 = 7\n",
      "7 * 2 = 14\n",
      "7 * 3 = 21\n",
      "7 * 4 = 28\n",
      "7 * 5 = 35\n",
      "7 * 6 = 42\n",
      "7 * 7 = 49\n",
      "7 * 8 = 56\n",
      "7 * 9 = 63\n",
      "7 * 10 = 70\n",
      "\n",
      "8 * 1 = 8\n",
      "8 * 2 = 16\n",
      "8 * 3 = 24\n",
      "8 * 4 = 32\n",
      "8 * 5 = 40\n",
      "8 * 6 = 48\n",
      "8 * 7 = 56\n",
      "8 * 8 = 64\n",
      "8 * 9 = 72\n",
      "8 * 10 = 80\n",
      "\n",
      "9 * 1 = 9\n",
      "9 * 2 = 18\n",
      "9 * 3 = 27\n",
      "9 * 4 = 36\n",
      "9 * 5 = 45\n",
      "9 * 6 = 54\n",
      "9 * 7 = 63\n",
      "9 * 8 = 72\n",
      "9 * 9 = 81\n",
      "9 * 10 = 90\n",
      "\n",
      "10 * 1 = 10\n",
      "10 * 2 = 20\n",
      "10 * 3 = 30\n",
      "10 * 4 = 40\n",
      "10 * 5 = 50\n",
      "10 * 6 = 60\n",
      "10 * 7 = 70\n",
      "10 * 8 = 80\n",
      "10 * 9 = 90\n",
      "10 * 10 = 100\n",
      "\n",
      "11 * 1 = 11\n",
      "11 * 2 = 22\n",
      "11 * 3 = 33\n",
      "11 * 4 = 44\n",
      "11 * 5 = 55\n",
      "11 * 6 = 66\n",
      "11 * 7 = 77\n",
      "11 * 8 = 88\n",
      "11 * 9 = 99\n",
      "11 * 10 = 110\n",
      "\n",
      "12 * 1 = 12\n",
      "12 * 2 = 24\n",
      "12 * 3 = 36\n",
      "12 * 4 = 48\n",
      "12 * 5 = 60\n",
      "12 * 6 = 72\n",
      "12 * 7 = 84\n",
      "12 * 8 = 96\n",
      "12 * 9 = 108\n",
      "12 * 10 = 120\n",
      "\n"
     ]
    }
   ],
   "source": [
    "i = 1\n",
    "\n",
    "while i<=12:\n",
    "    j=1\n",
    "    while j<=10:\n",
    "        print(i, \"*\", j, \"=\", i*j)\n",
    "        j += 1\n",
    "    i += 1\n",
    "    print()"
   ]
  },
  {
   "cell_type": "markdown",
   "metadata": {},
   "source": [
    "### Q20) Write a program to check if the number is odd or even."
   ]
  },
  {
   "cell_type": "code",
   "execution_count": 40,
   "metadata": {},
   "outputs": [
    {
     "name": "stdout",
     "output_type": "stream",
     "text": [
      "Enter a number: 12\n",
      "The number is even\n"
     ]
    }
   ],
   "source": [
    "num = int(input(\"Enter a number: \"))\n",
    "\n",
    "if num%2==0:\n",
    "    print(\"The number is even\")\n",
    "else:\n",
    "    print(\"The number is odd\")"
   ]
  },
  {
   "cell_type": "markdown",
   "metadata": {},
   "source": [
    "### Q21) Write a program to find the largest number among the three input numbers."
   ]
  },
  {
   "cell_type": "code",
   "execution_count": 43,
   "metadata": {},
   "outputs": [
    {
     "name": "stdout",
     "output_type": "stream",
     "text": [
      "Enter num1: 65\n",
      "Enter num2: 52\n",
      "Enter num3: 74\n",
      "Largest number is:  74\n"
     ]
    }
   ],
   "source": [
    "num1 = int(input(\"Enter num1: \"))\n",
    "num2 = int(input(\"Enter num2: \"))\n",
    "num3 = int(input(\"Enter num3: \"))\n",
    "\n",
    "if num1>num2 and num1>num3:\n",
    "    print(\"Largest number is: \", num1)\n",
    "elif num2>num1 and num2>num3:\n",
    "    print(\"Largest number is: \", num2)\n",
    "else:\n",
    "    print(\"Largest number is: \", num3)"
   ]
  },
  {
   "cell_type": "markdown",
   "metadata": {},
   "source": [
    "### Q22) Write a program to convert decimal into other number system."
   ]
  },
  {
   "cell_type": "code",
   "execution_count": 3,
   "metadata": {},
   "outputs": [
    {
     "name": "stdout",
     "output_type": "stream",
     "text": [
      "0b1111011\n",
      "0x7b\n",
      "0o173\n"
     ]
    }
   ],
   "source": [
    "num =123\n",
    "\n",
    "print(bin(num))    # equivalent value in binary\n",
    "print(hex(num))    # equivalent value in hexa-decimal\n",
    "print(oct(num))    # equivalent value in octa-system"
   ]
  },
  {
   "cell_type": "markdown",
   "metadata": {},
   "source": [
    "### Q23) Write a program to find ASCII value of character.\n",
    "(American Standard Code for Information Interchange)"
   ]
  },
  {
   "cell_type": "code",
   "execution_count": 6,
   "metadata": {},
   "outputs": [
    {
     "name": "stdout",
     "output_type": "stream",
     "text": [
      "97\n"
     ]
    }
   ],
   "source": [
    "print(ord('a'))\n",
    "# this means the letter 'a' has the ASCII number 97."
   ]
  },
  {
   "cell_type": "code",
   "execution_count": 8,
   "metadata": {},
   "outputs": [
    {
     "name": "stdout",
     "output_type": "stream",
     "text": [
      "d\n"
     ]
    }
   ],
   "source": [
    "print(chr(100))\n",
    "# this means the ASCII number 100 has letter 'd'."
   ]
  },
  {
   "cell_type": "markdown",
   "metadata": {},
   "source": [
    "### Q24) Write a program to find the factors of a number."
   ]
  },
  {
   "cell_type": "code",
   "execution_count": 10,
   "metadata": {},
   "outputs": [
    {
     "name": "stdout",
     "output_type": "stream",
     "text": [
      "Enter a number: 64\n",
      "1\n",
      "2\n",
      "4\n",
      "8\n",
      "16\n",
      "32\n",
      "64\n"
     ]
    }
   ],
   "source": [
    "num = int(input(\"Enter a number: \"))\n",
    "\n",
    "for i in range(1, num+1):\n",
    "    if num%i==0:\n",
    "        print(i)"
   ]
  },
  {
   "cell_type": "code",
   "execution_count": 11,
   "metadata": {},
   "outputs": [
    {
     "name": "stdout",
     "output_type": "stream",
     "text": [
      "Enter a number: 64\n",
      "The factors of the number 64 are:\n",
      "[1, 2, 4, 8, 16, 32, 64]\n"
     ]
    }
   ],
   "source": [
    "num = int(input(\"Enter a number: \"))\n",
    "\n",
    "factors = []\n",
    "for i in range(1, num+1):\n",
    "    if num%i==0:\n",
    "        factors.append(i)\n",
    "print(\"The factors of the number\", num, 'are:')\n",
    "print(factors)"
   ]
  },
  {
   "cell_type": "markdown",
   "metadata": {},
   "source": [
    "### Q25) Write a program to check whether a string is Palindrome or Not.\n",
    "Palindrome string means a string which appears to be the same even after reading it backwards.\n",
    "\n",
    "Example:- \"madam\", \"radar\"."
   ]
  },
  {
   "cell_type": "code",
   "execution_count": 19,
   "metadata": {},
   "outputs": [
    {
     "name": "stdout",
     "output_type": "stream",
     "text": [
      "Enter the word: Radar\n",
      "The word Radar is Not Palindrome\n"
     ]
    }
   ],
   "source": [
    "word = input(\"Enter the word: \")\n",
    "\n",
    "if word == word[::-1]:\n",
    "    print(\"The word {} is Palindrome\".format(word))\n",
    "else:\n",
    "    print(\"The word {} is Not Palindrome\".format(word))"
   ]
  },
  {
   "cell_type": "code",
   "execution_count": 18,
   "metadata": {},
   "outputs": [
    {
     "name": "stdout",
     "output_type": "stream",
     "text": [
      "Enter the word: Radar\n",
      "The word Radar is Palindrome\n"
     ]
    }
   ],
   "source": [
    "word = input(\"Enter the word: \")\n",
    "\n",
    "if word.lower() == word[::-1].lower():                        # lowered the strings\n",
    "    print(\"The word {} is Palindrome\".format(word))\n",
    "else:\n",
    "    print(\"The word {} is Not Palindrome\".format(word))"
   ]
  },
  {
   "cell_type": "markdown",
   "metadata": {},
   "source": [
    "### Q26) Write program to convert Celsius to Fahrenheit.\n",
    "Formula:\n",
    "\n",
    "celsius * 1.8 = Fahrenheit - 32"
   ]
  },
  {
   "cell_type": "code",
   "execution_count": 23,
   "metadata": {},
   "outputs": [
    {
     "name": "stdout",
     "output_type": "stream",
     "text": [
      "Enter the degree in celsius: 32.5\n",
      "The degree in Fahrenheit:  90.5\n"
     ]
    }
   ],
   "source": [
    "celsius = float(input(\"Enter the degree in celsius: \"))\n",
    "\n",
    "fahrenheit = (celsius*1.8) + 32\n",
    "print(\"The degree in Fahrenheit: \", fahrenheit)"
   ]
  },
  {
   "cell_type": "markdown",
   "metadata": {},
   "source": [
    "### Q27) Write a program to check if a number is positive or negative."
   ]
  },
  {
   "cell_type": "code",
   "execution_count": 27,
   "metadata": {},
   "outputs": [
    {
     "name": "stdout",
     "output_type": "stream",
     "text": [
      "Enter a number: 12\n",
      "The number 12 is Positive\n"
     ]
    }
   ],
   "source": [
    "# for integer\n",
    "num = int(input(\"Enter a number: \"))\n",
    "\n",
    "if num>0:\n",
    "    print(\"The number {} is Positive\".format(num))\n",
    "elif num<0:\n",
    "    print(\"The number {} is Negative\".format(num))\n",
    "else:\n",
    "    print(\"The number {} is Neutral\".format(num))"
   ]
  },
  {
   "cell_type": "code",
   "execution_count": 32,
   "metadata": {},
   "outputs": [
    {
     "name": "stdout",
     "output_type": "stream",
     "text": [
      "Enter a number: -3\n",
      "The number -3 is Negative\n"
     ]
    }
   ],
   "source": [
    "# for float\n",
    "num = float(input(\"Enter a number: \"))\n",
    "\n",
    "if num>0:\n",
    "    print(\"The number {} is Positive\".format(num))\n",
    "elif num<0:\n",
    "    print(\"The number {} is Negative\".format(num))\n",
    "else:\n",
    "    print(\"The number {} is Neutral\".format(num))"
   ]
  },
  {
   "cell_type": "code",
   "execution_count": 36,
   "metadata": {},
   "outputs": [
    {
     "name": "stdout",
     "output_type": "stream",
     "text": [
      "Enter a number: 12.8\n",
      "The number 12 is Positive\n"
     ]
    }
   ],
   "source": [
    "num = float(input(\"Enter a number: \"))\n",
    "\n",
    "if num>0:\n",
    "    print(\"The number {} is Positive\".format(int(num)))    # to get the output as integer even if the input is float\n",
    "elif num<0:\n",
    "    print(\"The number {} is Negative\".format(int(num)))    # to get the output as integer even if the input is float\n",
    "else:\n",
    "    print(\"The number {} is Neutral\".format(num))"
   ]
  },
  {
   "cell_type": "markdown",
   "metadata": {},
   "source": [
    "### Q28) Write a program to create a Random Number."
   ]
  },
  {
   "cell_type": "code",
   "execution_count": 51,
   "metadata": {},
   "outputs": [
    {
     "name": "stdout",
     "output_type": "stream",
     "text": [
      "0.4370326674250187\n"
     ]
    }
   ],
   "source": [
    "# to display any number between 0 and 1\n",
    "import random\n",
    "\n",
    "num1 = random.random()\n",
    "print(num1)"
   ]
  },
  {
   "cell_type": "code",
   "execution_count": 52,
   "metadata": {},
   "outputs": [
    {
     "name": "stdout",
     "output_type": "stream",
     "text": [
      "1\n"
     ]
    }
   ],
   "source": [
    "# to display random integer between 1 to 4 (inclusive)\n",
    "num2 = random.randint(1, 4)\n",
    "print(num2)"
   ]
  },
  {
   "cell_type": "code",
   "execution_count": 53,
   "metadata": {},
   "outputs": [
    {
     "name": "stdout",
     "output_type": "stream",
     "text": [
      "[20, 30, 10]\n"
     ]
    }
   ],
   "source": [
    "# to display 3 random numbers from given sample\n",
    "num3 = random.sample([10, 20, 30, 40], 3)\n",
    "print(num3)"
   ]
  },
  {
   "cell_type": "markdown",
   "metadata": {},
   "source": [
    "### Q29) Write a program to check if a list is empty."
   ]
  },
  {
   "cell_type": "code",
   "execution_count": 56,
   "metadata": {},
   "outputs": [
    {
     "name": "stdout",
     "output_type": "stream",
     "text": [
      "The list is empty\n"
     ]
    }
   ],
   "source": [
    "lst1 = []\n",
    "\n",
    "if not lst1:\n",
    "    print(\"The list is empty\")\n",
    "else:\n",
    "    print(\"The list has some elements\")"
   ]
  },
  {
   "cell_type": "code",
   "execution_count": 58,
   "metadata": {},
   "outputs": [
    {
     "name": "stdout",
     "output_type": "stream",
     "text": [
      "The list has some elements\n"
     ]
    }
   ],
   "source": [
    "lst2 = []\n",
    "\n",
    "if not len(lst2):\n",
    "    print(\"The list is empty\")\n",
    "else:\n",
    "    print(\"The list has some elements\")"
   ]
  },
  {
   "cell_type": "code",
   "execution_count": 61,
   "metadata": {},
   "outputs": [
    {
     "name": "stdout",
     "output_type": "stream",
     "text": [
      "The list is empty\n"
     ]
    }
   ],
   "source": [
    "lst2 = []\n",
    "\n",
    "if len(lst2)==0:\n",
    "    print(\"The list is empty\")\n",
    "else:\n",
    "    print(\"The list has some elements\")"
   ]
  },
  {
   "cell_type": "code",
   "execution_count": 64,
   "metadata": {},
   "outputs": [
    {
     "name": "stdout",
     "output_type": "stream",
     "text": [
      "The list is empty\n"
     ]
    }
   ],
   "source": [
    "lst3 = []\n",
    "\n",
    "if lst3==[]:\n",
    "    print(\"The list is empty\")\n",
    "else:\n",
    "    print(\"The list has some elements\")"
   ]
  },
  {
   "cell_type": "markdown",
   "metadata": {},
   "source": [
    "### Q30) Write a program to encode and decode any text with base64 encoding."
   ]
  },
  {
   "cell_type": "code",
   "execution_count": 68,
   "metadata": {},
   "outputs": [
    {
     "name": "stdout",
     "output_type": "stream",
     "text": [
      "cHJvZ3JhbW1pbmc=\n"
     ]
    }
   ],
   "source": [
    "import base64\n",
    "\n",
    "plain_text = \"programming\"\n",
    "cipher_text = base64.b64encode(plain_text.encode())    # .encode() is not associated with base64 library\n",
    "print(cipher_text.decode())                            # .decode() is to remove b from b'cHJvZ3JhbW1pbmc='"
   ]
  },
  {
   "cell_type": "code",
   "execution_count": 72,
   "metadata": {},
   "outputs": [
    {
     "name": "stdout",
     "output_type": "stream",
     "text": [
      "programming\n"
     ]
    }
   ],
   "source": [
    "cipher_text = \"cHJvZ3JhbW1pbmc=\"\n",
    "plain_text = base64.b64decode(cipher_text.encode())    # .encode() is not associated with base64 library\n",
    "print(plain_text.decode())                             # .decode() is to remove b from b'programming'"
   ]
  },
  {
   "cell_type": "markdown",
   "metadata": {},
   "source": [
    "### Q31) Write a program to take a string from the user and print MD5 hashing for that string."
   ]
  },
  {
   "cell_type": "code",
   "execution_count": 79,
   "metadata": {},
   "outputs": [
    {
     "name": "stdout",
     "output_type": "stream",
     "text": [
      "Enter the string: programming\n",
      "The MD5 for your input: 7e73d06707f5fb75ec77cc5f2bd9bb92\n"
     ]
    }
   ],
   "source": [
    "import hashlib\n",
    "\n",
    "string = input(\"Enter the string: \")\n",
    "\n",
    "cipher_text = hashlib.md5(string.encode())\n",
    "print(\"The MD5 for your input:\",cipher_text.hexdigest())"
   ]
  },
  {
   "cell_type": "code",
   "execution_count": null,
   "metadata": {},
   "outputs": [],
   "source": []
  }
 ],
 "metadata": {
  "kernelspec": {
   "display_name": "Python 3",
   "language": "python",
   "name": "python3"
  },
  "language_info": {
   "codemirror_mode": {
    "name": "ipython",
    "version": 3
   },
   "file_extension": ".py",
   "mimetype": "text/x-python",
   "name": "python",
   "nbconvert_exporter": "python",
   "pygments_lexer": "ipython3",
   "version": "3.8.5"
  }
 },
 "nbformat": 4,
 "nbformat_minor": 4
}
