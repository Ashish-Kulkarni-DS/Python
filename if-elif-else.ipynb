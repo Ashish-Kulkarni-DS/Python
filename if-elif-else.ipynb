{
 "cells": [
  {
   "cell_type": "code",
   "execution_count": 3,
   "metadata": {},
   "outputs": [
    {
     "name": "stdout",
     "output_type": "stream",
     "text": [
      "You are passed!!!\n"
     ]
    }
   ],
   "source": [
    "grade = 90\n",
    "\n",
    "if grade>=70:\n",
    "     print(\"You are passed!!!\")"
   ]
  },
  {
   "cell_type": "code",
   "execution_count": 5,
   "metadata": {},
   "outputs": [],
   "source": [
    "grade = 50\n",
    "\n",
    "if grade>=70:\n",
    "     print(\"You are passed!!!\")\n",
    "# this will not give us the output\n",
    "# so to get some sort of output, use else or elif statement"
   ]
  },
  {
   "cell_type": "code",
   "execution_count": 13,
   "metadata": {},
   "outputs": [
    {
     "name": "stdout",
     "output_type": "stream",
     "text": [
      "Excellent!!!\n"
     ]
    }
   ],
   "source": [
    "grade = 85\n",
    "\n",
    "if grade>=70 and grade<85:\n",
    "    print(\"You are passed!!! Congrates!!!\")\n",
    "elif grade>=85:\n",
    "    print(\"Excellent!!!\")\n",
    "else:\n",
    "    print(\"You are failed. Do Better Next Time.\")"
   ]
  },
  {
   "cell_type": "code",
   "execution_count": 17,
   "metadata": {},
   "outputs": [
    {
     "name": "stdout",
     "output_type": "stream",
     "text": [
      "Excellent!!!\n"
     ]
    }
   ],
   "source": [
    "grade = 100\n",
    "\n",
    "if grade>100 or grade<0:\n",
    "    print(\"Not a valid grade\")\n",
    "elif grade>=70 and grade<85:\n",
    "    print(\"You are passed!!! Congrates!!!\")\n",
    "elif grade>=85:\n",
    "    print(\"Excellent!!!\")\n",
    "else:\n",
    "    print(\"You are failed. Do Better Next Time.\")"
   ]
  },
  {
   "cell_type": "code",
   "execution_count": 18,
   "metadata": {},
   "outputs": [
    {
     "name": "stdout",
     "output_type": "stream",
     "text": [
      "WOW!!! What a cool name\n"
     ]
    }
   ],
   "source": [
    "name = \"Ashish\"\n",
    "\n",
    "if name==\"Ashish\":\n",
    "    print(\"WOW!!! What a cool name\")\n",
    "else:\n",
    "    print(\"Whatever!!!\")"
   ]
  },
  {
   "cell_type": "markdown",
   "metadata": {},
   "source": [
    "You can also use input() function to take the inputs. But, I'm too lazy to do that ;)"
   ]
  },
  {
   "cell_type": "code",
   "execution_count": 20,
   "metadata": {},
   "outputs": [
    {
     "name": "stdout",
     "output_type": "stream",
     "text": [
      "Passed!!!\n"
     ]
    }
   ],
   "source": [
    "if False and False or True:\n",
    "    print(\"Passed!!!\")"
   ]
  },
  {
   "cell_type": "code",
   "execution_count": 22,
   "metadata": {},
   "outputs": [
    {
     "name": "stdout",
     "output_type": "stream",
     "text": [
      "Better luck next time!\n"
     ]
    }
   ],
   "source": [
    "if False and (False or True):     # priority given to the parentheses\n",
    "    print(\"Passed!!!\")\n",
    "else:\n",
    "    print(\"Better luck next time!\")"
   ]
  },
  {
   "cell_type": "code",
   "execution_count": 23,
   "metadata": {},
   "outputs": [
    {
     "name": "stdout",
     "output_type": "stream",
     "text": [
      "False\n"
     ]
    }
   ],
   "source": [
    "print(not True)"
   ]
  },
  {
   "cell_type": "markdown",
   "metadata": {},
   "source": [
    "#### Q) Write a set of conditional statements to find whether or not a number is a \"Special\" number. Special number are defined as numbers less than 100 or greater than or equal to 300, that are perfectly divisible by 3, 7 or both. Print \"Divisible by both\" if special number is divisible by both 3 and 7, print \"Divisible by 3\" if special number divisible by 3, but not by 7, print \"Divisible by 7\" if special number divisible by 7, but not by 3, print \"Not a Special Number\" otherwise."
   ]
  },
  {
   "cell_type": "code",
   "execution_count": 44,
   "metadata": {},
   "outputs": [
    {
     "name": "stdout",
     "output_type": "stream",
     "text": [
      "Enter a number: 99\n",
      "Special Number\n",
      "Divisible by 3\n"
     ]
    }
   ],
   "source": [
    "num = float(input(\"Enter a number: \"))\n",
    "\n",
    "if num<100 or num>=300:\n",
    "    print(\"Special Number\")\n",
    "    if num%3==0 and num%7==0:\n",
    "        print(\"Divisible by both\")\n",
    "    elif num%3==0 and num%7!=0:\n",
    "        print(\"Divisible by 3\")\n",
    "    elif num%7==0 and num%3!=0:\n",
    "        print(\"Divisible by 7\")\n",
    "else:\n",
    "    print(\"Not a Special Number\")"
   ]
  },
  {
   "cell_type": "code",
   "execution_count": null,
   "metadata": {},
   "outputs": [],
   "source": []
  }
 ],
 "metadata": {
  "kernelspec": {
   "display_name": "Python 3",
   "language": "python",
   "name": "python3"
  },
  "language_info": {
   "codemirror_mode": {
    "name": "ipython",
    "version": 3
   },
   "file_extension": ".py",
   "mimetype": "text/x-python",
   "name": "python",
   "nbconvert_exporter": "python",
   "pygments_lexer": "ipython3",
   "version": "3.8.5"
  }
 },
 "nbformat": 4,
 "nbformat_minor": 4
}
